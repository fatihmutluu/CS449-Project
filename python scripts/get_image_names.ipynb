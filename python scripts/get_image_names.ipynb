{
 "cells": [
  {
   "cell_type": "code",
   "execution_count": 1,
   "metadata": {},
   "outputs": [
    {
     "name": "stdout",
     "output_type": "stream",
     "text": [
      "[{'name': 'r-no-reward1.png'}, {'name': 'quiz_results (8).xlsx'}, {'name': '7.jpg'}, {'name': 'ai-photo-reward4.png'}, {'name': 'ai-no-reward2.png'}, {'name': 'r-photo-reward4.png'}, {'name': 'quiz_results (3).xlsx'}, {'name': '1.jpg'}, {'name': 'quiz_results (1).png'}, {'name': '12.jpg'}, {'name': 'r-no-loss3.png'}, {'name': 'ai-photo-reward2.png'}, {'name': '2.jpg'}, {'name': 'ai-no-loss4.png'}, {'name': 'quiz_results (6).xlsx'}, {'name': 'r-photo-loss1.png'}, {'name': '8.jpg'}, {'name': 'ai-photo-loss1.png'}, {'name': '3.jpg'}, {'name': 'quiz_results (10).xlsx'}, {'name': 'ai-no-loss3.png'}, {'name': 'ai-photo-reward6.png'}, {'name': 'r-photo-reward6.png'}, {'name': '5.jpg'}, {'name': 'r-no-loss1.png'}, {'name': 'r-no-reward3.png'}, {'name': 'ai-photo-reward5.png'}, {'name': '9.jpg'}, {'name': 'quiz_results (11).xlsx'}, {'name': 'r-no-loss4.png'}, {'name': '10.jpg'}, {'name': 'ai-no-reward1.png'}, {'name': 'ai-photo-reward1.png'}, {'name': 'quiz_results (9).xlsx'}, {'name': 'r-no-reward5.png'}, {'name': 'r-photo-reward2.png'}, {'name': 'r-no-loss2.png'}, {'name': 'r-photo-reward1.png'}, {'name': 'quiz_results (2).xlsx'}, {'name': '6.jpg'}, {'name': 'ai-no-reward3.png'}, {'name': 'r-no-reward2.png'}, {'name': 'r-photo-reward5.png'}, {'name': 'ai-photo-reward7.png'}, {'name': 'ai-no-loss1.png'}, {'name': 'quiz_results (4).xlsx'}, {'name': '13.jpg'}, {'name': 'quiz_results (1).xlsx'}, {'name': 'quiz_results (5).xlsx'}, {'name': 'ai-no-loss2.png'}, {'name': 'ai-photo-reward3.png'}, {'name': 'quiz_results (7).xlsx'}, {'name': 'r-photo-reward3.png'}, {'name': 'ai-photo-loss2.png'}, {'name': '4.jpg'}, {'name': 'r-no-reward4.png'}, {'name': 'quiz_results.xlsx'}, {'name': '14.jpg'}, {'name': 'quiz_results.png'}, {'name': 'quiz_results (12).xlsx'}, {'name': '11.jpg'}]\n"
     ]
    }
   ],
   "source": [
    "import os\n",
    "import random\n",
    "\n",
    "\n",
    "def get_randomized_image_names(path=\"../images\"):\n",
    "    # Read the image names from the specified directory\n",
    "    image_files = [f for f in os.listdir(path) if os.path.isfile(os.path.join(path, f))]\n",
    "\n",
    "    # Randomize the order of the image names\n",
    "    random.shuffle(image_files)\n",
    "\n",
    "    # Create the list of dictionaries with image names\n",
    "    images = [{\"name\": img} for img in image_files]\n",
    "\n",
    "    return images\n",
    "\n",
    "\n",
    "# Example usage\n",
    "randomized_images = get_randomized_image_names()\n",
    "print(randomized_images)"
   ]
  }
 ],
 "metadata": {
  "kernelspec": {
   "display_name": "Python 3",
   "language": "python",
   "name": "python3"
  },
  "language_info": {
   "codemirror_mode": {
    "name": "ipython",
    "version": 3
   },
   "file_extension": ".py",
   "mimetype": "text/x-python",
   "name": "python",
   "nbconvert_exporter": "python",
   "pygments_lexer": "ipython3",
   "version": "3.12.1"
  }
 },
 "nbformat": 4,
 "nbformat_minor": 2
}
